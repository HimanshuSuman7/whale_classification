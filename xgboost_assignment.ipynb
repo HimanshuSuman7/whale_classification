{
 "cells": [
  {
   "cell_type": "code",
   "execution_count": 6,
   "metadata": {
    "ExecuteTime": {
     "end_time": "2020-04-28T13:35:55.858807Z",
     "start_time": "2020-04-28T13:35:55.850805Z"
    }
   },
   "outputs": [],
   "source": [
    "import numpy\n",
    "import matplotlib.pyplot as plt\n",
    "import random\n",
    "import pickle\n",
    "\n",
    "import xgboost as xgb\n",
    "from sklearn.model_selection import train_test_split"
   ]
  },
  {
   "cell_type": "markdown",
   "metadata": {},
   "source": [
    "### Loading Data"
   ]
  },
  {
   "cell_type": "code",
   "execution_count": 5,
   "metadata": {
    "ExecuteTime": {
     "end_time": "2020-04-28T13:34:12.450184Z",
     "start_time": "2020-04-28T13:34:12.253913Z"
    }
   },
   "outputs": [],
   "source": [
    "with open(\"../Data/whale_data/X_train.pkl\", \"rb\") as obj:\n",
    "    x_train = pickle.load(obj)\n",
    "\n",
    "with open(\"../Data/whale_data/X_test.pkl\", \"rb\") as obj:\n",
    "    x_test = pickle.load(obj)\n",
    "\n",
    "with open(\"../Data/whale_data/y_train.pkl\", \"rb\") as obj:\n",
    "    y_train = pickle.load(obj)\n",
    "\n",
    "with open(\"../Data/whale_data/y_test.pkl\", \"rb\") as obj:\n",
    "    y_test = pickle.load(obj)"
   ]
  },
  {
   "cell_type": "markdown",
   "metadata": {},
   "source": [
    "### Setting Parameters for XGBoost"
   ]
  },
  {
   "cell_type": "code",
   "execution_count": 7,
   "metadata": {
    "ExecuteTime": {
     "end_time": "2020-04-28T13:39:59.785890Z",
     "start_time": "2020-04-28T13:39:59.780889Z"
    }
   },
   "outputs": [],
   "source": [
    "param = {\n",
    "    # max depth of the tree\n",
    "    \"max_depth\": 3,\n",
    "    # step size shrinkage\n",
    "    \"eta\": 0.3,\n",
    "    # silent parameter\n",
    "    \"silent\": 0,\n",
    "    # objective -> binary classification\n",
    "    \"objective\": \"binary:logistic\",\n",
    "    # number of threads\n",
    "    \"nthread\": 7,\n",
    "    # evaluation criterion\n",
    "    \"eval_metric\": \"logloss\"\n",
    "}"
   ]
  },
  {
   "cell_type": "code",
   "execution_count": 9,
   "metadata": {
    "ExecuteTime": {
     "end_time": "2020-04-28T13:43:39.616459Z",
     "start_time": "2020-04-28T13:43:39.613464Z"
    }
   },
   "outputs": [],
   "source": [
    "plst = param.items()"
   ]
  },
  {
   "cell_type": "markdown",
   "metadata": {},
   "source": [
    "### Computing the score ranges"
   ]
  },
  {
   "cell_type": "code",
   "execution_count": 15,
   "metadata": {
    "ExecuteTime": {
     "end_time": "2020-04-28T14:54:56.464257Z",
     "start_time": "2020-04-28T14:54:56.459257Z"
    }
   },
   "outputs": [],
   "source": [
    "def calc_stats(margin_scores):\n",
    "    \"\"\"\n",
    "    input: xgboost margin scores -> obtained from bootstrap_pred\n",
    "    ops: \n",
    "        min_scr = mean - (3 * std)\n",
    "        max_scr = mean + (3 * std)\n",
    "    returns: two numpy arrays -> min_scr, max_scr\n",
    "    \"\"\"\n",
    "    min_scr = np.round(np.mean(margin_scores, axis=1) - (3 * np.std(margin_scores, axis=1)), 2)\n",
    "    max_scr = np.round(np.mean(margin_scores, axis=1) + (3 * np.std(margin_scores, axis=1)), 2)\n",
    "    return (min_scr, max_scr)"
   ]
  },
  {
   "cell_type": "code",
   "execution_count": 16,
   "metadata": {
    "ExecuteTime": {
     "end_time": "2020-04-28T14:54:57.551103Z",
     "start_time": "2020-04-28T14:54:56.726614Z"
    }
   },
   "outputs": [],
   "source": [
    "# test_case\n",
    "margin_scores = np.array([[-0.22, -0.19, -0.17, -0.13], [-0.1, -0.05, 0.02, 0.10], [0.03, 0.11, 0.12, 0.15]])\n",
    "min_score, max_score = calc_stats(margin_scores)\n",
    "\n",
    "assert type(min_score) == np.ndarray, 'Incorrect Return type'\n",
    "assert type(max_score) == np.ndarray, 'Incorrect Return type'\n",
    "\n",
    "assert (min_score == np.array([-0.28, -0.23, -0.03])).all(), \"Incorrect return value\"\n",
    "\n",
    "assert (max_score == np.array([-0.08,  0.22,  0.24])).all(), \"Incorrect return value\""
   ]
  },
  {
   "cell_type": "markdown",
   "metadata": {},
   "source": [
    "### Calculating Predictions"
   ]
  },
  {
   "cell_type": "code",
   "execution_count": null,
   "metadata": {
    "ExecuteTime": {
     "end_time": "2020-04-28T14:54:57.581102Z",
     "start_time": "2020-04-28T14:54:57.466Z"
    }
   },
   "outputs": [],
   "source": [
    "def f(x, y):\n",
    "    if x == y:\n",
    "        return max(x, -1)\n",
    "    return 0\n",
    "\n",
    "def predict(min_scr, max_scr):\n",
    "    \"\"\"\n",
    "    input: min_scr and max_scr\n",
    "    returns:\n",
    "        values of min_scr & max_scr less than 0 -> predict -1 (Cuvier)\n",
    "        value of min_scr less than 0 & value of max_scr greater than 0 -> predict 0 (unsure)\n",
    "        values of min_scr & max_scr greater than 0 -> predict 1 (Gervais)\n",
    "    \"\"\"\n",
    "    return np.array(list(map(f, np.sign(min_scr), np.sign(max_scr))))"
   ]
  },
  {
   "cell_type": "code",
   "execution_count": 17,
   "metadata": {
    "ExecuteTime": {
     "end_time": "2020-04-28T14:54:58.957907Z",
     "start_time": "2020-04-28T14:54:58.950897Z"
    }
   },
   "outputs": [],
   "source": [
    "# test_case\n",
    "max_s = np.array([-0.49, -0.39, -0.33, -0.25, -0.2, -0.11, -0.04, 0.1, 0.3, 0.51])\n",
    "min_s = np.array([-0.78, -0.68, -0.6, -0.53, -0.47, -0.42, -0.32, -0.21, -0.07, 0.22])\n",
    "pred = predict(min_s, max_s)\n",
    "true_pred = np.array([-1, -1, -1, -1, -1, -1, -1, 0, 0, 1])\n",
    "\n",
    "assert type(pred) == np.ndarray, 'Incorrect return type'\n",
    "assert (pred == true_pred).all(), 'Incorrect return value'"
   ]
  },
  {
   "cell_type": "markdown",
   "metadata": {},
   "source": [
    "### Calculating Scores"
   ]
  },
  {
   "cell_type": "code",
   "execution_count": 31,
   "metadata": {
    "ExecuteTime": {
     "end_time": "2020-04-28T15:11:41.309632Z",
     "start_time": "2020-04-28T15:11:41.300634Z"
    }
   },
   "outputs": [],
   "source": [
    "def bootstrap_pred(x_train, x_test, y_train, y_test, n_bootstrap, min_r, max_r, \n",
    "                   bootstrap_size, num_round=100, plst=plst):\n",
    "    margin_scores = []\n",
    "    l_bound = int(n_bootstrap * min_r)\n",
    "    u_bound = int(n_bootstrap * max_r)\n",
    "    \n",
    "    for _ in range(n_bootstrap):\n",
    "        index = np.random.randint(len(x_train), size=bootstrap_size)\n",
    "        x_sample = x_train[index]\n",
    "        y_sample = y_train[index]\n",
    "        \n",
    "        d_train = xgb.DMatrix(x_sample, label=y_sample)\n",
    "        d_test = xgb.DMatrix(x_test, label=y_test)\n",
    "        \n",
    "        evallist = [(d_train, \"train\"), (d_test, \"eval\")]\n",
    "        \n",
    "        bst = xgb.train(plst, d_train, num_round, evallist, verbose_eval=False)\n",
    "        y_pred = bst.predict(d_test, ntree_limit=bst.best_ntree_limit, output_margin=True)\n",
    "        y_pred = np.array(y_pred / (np.max(y_pred) - np.min(y_pred)))\n",
    "        margin_scores.append(y_pred)\n",
    "        \n",
    "    margin_scores = np.array(margin_scores).T\n",
    "    scores_filter = margin_scores[:, l_bound:u_bound]\n",
    "    \n",
    "    return calc_stats(scores_filter)"
   ]
  },
  {
   "cell_type": "code",
   "execution_count": 32,
   "metadata": {
    "ExecuteTime": {
     "end_time": "2020-04-28T15:11:42.005244Z",
     "start_time": "2020-04-28T15:11:42.001243Z"
    }
   },
   "outputs": [],
   "source": [
    "def process(x_train, x_test, y_train, y_test, n_bootstrap=100):\n",
    "    min_scr, max_scr = bootstrap_pred(x_train, x_test, y_train, y_test, n_bootstrap=n_bootstrap, \n",
    "                                      min_r=0.1, max_r=0.9, bootstrap_size=len(x_train))\n",
    "    pred = predict(min_scr, max_scr)\n",
    "    return min_scr, max_scr, pred"
   ]
  },
  {
   "cell_type": "markdown",
   "metadata": {},
   "source": [
    "### Test"
   ]
  },
  {
   "cell_type": "code",
   "execution_count": 33,
   "metadata": {
    "ExecuteTime": {
     "end_time": "2020-04-28T15:11:42.925144Z",
     "start_time": "2020-04-28T15:11:42.920113Z"
    }
   },
   "outputs": [],
   "source": [
    "sample_indices = np.load(\"../Data/whale_data/vis_indices.npy\")\n",
    "x_test_sample = x_test[sample_indices]\n",
    "y_test_sample = np.array(y_test[sample_indices], dtype=int)"
   ]
  },
  {
   "cell_type": "code",
   "execution_count": 34,
   "metadata": {
    "ExecuteTime": {
     "end_time": "2020-04-28T15:11:43.498502Z",
     "start_time": "2020-04-28T15:11:43.494499Z"
    }
   },
   "outputs": [],
   "source": [
    "mid_point = np.load(\"../Data/whale_data/vis_midpt.npy\")\n",
    "avg_length = np.load(\"../Data/whale_data/vis_avg_length.npy\")"
   ]
  },
  {
   "cell_type": "code",
   "execution_count": 35,
   "metadata": {
    "ExecuteTime": {
     "end_time": "2020-04-28T15:12:16.417782Z",
     "start_time": "2020-04-28T15:11:44.006924Z"
    }
   },
   "outputs": [],
   "source": [
    "min_scr, max_scr, pred = process(x_train, x_test_sample, y_train, y_test_sample)\n",
    "length = max_scr - min_scr"
   ]
  },
  {
   "cell_type": "code",
   "execution_count": 42,
   "metadata": {
    "ExecuteTime": {
     "end_time": "2020-04-28T15:17:35.587411Z",
     "start_time": "2020-04-28T15:17:35.582445Z"
    }
   },
   "outputs": [],
   "source": [
    "# test_case\n",
    "assert sum(min_scr <= mid_point) >= (\n",
    "    0.7 * len(sample_indices)\n",
    "), \"Incorrect range (mean - 3*std) to (mean + 3*std)\"\n",
    "\n",
    "assert sum(max_scr >= mid_point) >= (\n",
    "    0.7 * len(sample_indices)\n",
    "), \"Incorrect range (mean - 3*std) to (mean + 3*std)\"\n",
    "\n",
    "assert sum(length < 2*avg_length) >= (\n",
    "    0.7 * len(sample_indices)\n",
    "), \"Incorrect length of range (mean - 3*std) to (mean + 3*std)\""
   ]
  },
  {
   "cell_type": "code",
   "execution_count": null,
   "metadata": {},
   "outputs": [],
   "source": []
  }
 ],
 "metadata": {
  "kernelspec": {
   "display_name": "Python 3",
   "language": "python",
   "name": "python3"
  },
  "language_info": {
   "codemirror_mode": {
    "name": "ipython",
    "version": 3
   },
   "file_extension": ".py",
   "mimetype": "text/x-python",
   "name": "python",
   "nbconvert_exporter": "python",
   "pygments_lexer": "ipython3",
   "version": "3.7.7"
  },
  "toc": {
   "base_numbering": 1,
   "nav_menu": {},
   "number_sections": false,
   "sideBar": true,
   "skip_h1_title": false,
   "title_cell": "Table of Contents",
   "title_sidebar": "Contents",
   "toc_cell": false,
   "toc_position": {},
   "toc_section_display": true,
   "toc_window_display": false
  },
  "varInspector": {
   "cols": {
    "lenName": 16,
    "lenType": 16,
    "lenVar": 40
   },
   "kernels_config": {
    "python": {
     "delete_cmd_postfix": "",
     "delete_cmd_prefix": "del ",
     "library": "var_list.py",
     "varRefreshCmd": "print(var_dic_list())"
    },
    "r": {
     "delete_cmd_postfix": ") ",
     "delete_cmd_prefix": "rm(",
     "library": "var_list.r",
     "varRefreshCmd": "cat(var_dic_list()) "
    }
   },
   "types_to_exclude": [
    "module",
    "function",
    "builtin_function_or_method",
    "instance",
    "_Feature"
   ],
   "window_display": false
  }
 },
 "nbformat": 4,
 "nbformat_minor": 4
}
